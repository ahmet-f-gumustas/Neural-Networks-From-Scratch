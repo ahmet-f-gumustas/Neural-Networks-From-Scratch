{
 "cells": [
  {
   "cell_type": "code",
   "execution_count": 1,
   "id": "5ce21427-48e9-4a03-9bde-1ad564643c05",
   "metadata": {},
   "outputs": [],
   "source": [
    "lolol = [[[1, 5, 6, 2],\n",
    "         [3, 2, 1, 3]],\n",
    "        [[5, 2, 1, 2],\n",
    "        [6, 4, 8, 4]],\n",
    "        [[2, 8, 5, 3],\n",
    "        [1, 1, 9, 4]]]"
   ]
  },
  {
   "cell_type": "code",
   "execution_count": 2,
   "id": "b084e105-2e55-4800-bb20-4174dc4341e6",
   "metadata": {},
   "outputs": [
    {
     "data": {
      "text/plain": [
       "[[[1, 5, 6, 2], [3, 2, 1, 3]],\n",
       " [[5, 2, 1, 2], [6, 4, 8, 4]],\n",
       " [[2, 8, 5, 3], [1, 1, 9, 4]]]"
      ]
     },
     "execution_count": 2,
     "metadata": {},
     "output_type": "execute_result"
    }
   ],
   "source": [
    "lolol"
   ]
  },
  {
   "cell_type": "code",
   "execution_count": 7,
   "id": "697ae71d-b719-49c4-844d-1ea7a2b3cb8f",
   "metadata": {},
   "outputs": [
    {
     "data": {
      "text/plain": [
       "<function list.reverse()>"
      ]
     },
     "execution_count": 7,
     "metadata": {},
     "output_type": "execute_result"
    }
   ],
   "source": [
    "lolol.reverse"
   ]
  },
  {
   "cell_type": "code",
   "execution_count": 19,
   "id": "6848eb39-2480-4c3d-a4e1-dcc380a94a0f",
   "metadata": {},
   "outputs": [],
   "source": [
    "a = lolol.sort()"
   ]
  },
  {
   "cell_type": "code",
   "execution_count": 18,
   "id": "268f40c2-f1c0-464b-be60-0ed94da346ab",
   "metadata": {},
   "outputs": [
    {
     "data": {
      "text/plain": [
       "[[[1, 5, 6, 2], [3, 2, 1, 3]],\n",
       " [[2, 8, 5, 3], [1, 1, 9, 4]],\n",
       " [[5, 2, 1, 2], [6, 4, 8, 4]]]"
      ]
     },
     "execution_count": 18,
     "metadata": {},
     "output_type": "execute_result"
    }
   ],
   "source": [
    "lolol"
   ]
  },
  {
   "cell_type": "code",
   "execution_count": 21,
   "id": "7498f309-ac12-47e5-9b45-db8b81e37044",
   "metadata": {},
   "outputs": [],
   "source": [
    "b = lolol.copy()"
   ]
  },
  {
   "cell_type": "code",
   "execution_count": 22,
   "id": "cef16668-7342-4361-95f8-3d7606ea0be5",
   "metadata": {},
   "outputs": [
    {
     "data": {
      "text/plain": [
       "[[[1, 5, 6, 2], [3, 2, 1, 3]],\n",
       " [[2, 8, 5, 3], [1, 1, 9, 4]],\n",
       " [[5, 2, 1, 2], [6, 4, 8, 4]]]"
      ]
     },
     "execution_count": 22,
     "metadata": {},
     "output_type": "execute_result"
    }
   ],
   "source": [
    "b"
   ]
  },
  {
   "cell_type": "code",
   "execution_count": 23,
   "id": "39799d0e-997e-4f2b-943b-44c61072c1df",
   "metadata": {},
   "outputs": [],
   "source": [
    "### New examples"
   ]
  },
  {
   "cell_type": "code",
   "execution_count": 24,
   "id": "7165bb9b-f7a6-44f8-88fe-90a05177d636",
   "metadata": {},
   "outputs": [],
   "source": [
    "a = [1, 2, 3]\n",
    "b = [2, 3, 4]"
   ]
  },
  {
   "cell_type": "code",
   "execution_count": 27,
   "id": "e4a89ad2-dde3-4674-b756-4c95963041a3",
   "metadata": {},
   "outputs": [],
   "source": [
    "dot_product = a[0]*b[0] + a[1]*b[1] + a[2] * b[2]"
   ]
  },
  {
   "cell_type": "code",
   "execution_count": 28,
   "id": "00c0749d-b3ce-449c-b023-d8e114fd584c",
   "metadata": {},
   "outputs": [
    {
     "name": "stdout",
     "output_type": "stream",
     "text": [
      "20\n"
     ]
    }
   ],
   "source": [
    "print(dot_product)"
   ]
  },
  {
   "cell_type": "code",
   "execution_count": 29,
   "id": "829b3dbd-00a3-4595-99bd-dec11c936f24",
   "metadata": {},
   "outputs": [],
   "source": [
    "### A single neuron with numpy"
   ]
  },
  {
   "cell_type": "code",
   "execution_count": 30,
   "id": "18804826-c5b4-4dd0-8be3-ce49f6da902b",
   "metadata": {},
   "outputs": [],
   "source": [
    "import numpy as np"
   ]
  },
  {
   "cell_type": "code",
   "execution_count": 31,
   "id": "277e0a17-6b85-49fc-b0e6-337f02ef0603",
   "metadata": {},
   "outputs": [],
   "source": [
    "inputs = [1.0, 2.0, 3.0, 2.5]\n",
    "weights = [0.2, 0.8, -0.5, 1.0]\n",
    "bias = 2.0"
   ]
  },
  {
   "cell_type": "code",
   "execution_count": 32,
   "id": "8108e22b-e377-4f28-94d9-543c1f2c1227",
   "metadata": {},
   "outputs": [],
   "source": [
    "outputs = np.dot(weights, inputs) + bias"
   ]
  },
  {
   "cell_type": "code",
   "execution_count": 33,
   "id": "d6a8077f-d0b6-4e6a-8e7e-51f9c91a11c1",
   "metadata": {},
   "outputs": [
    {
     "name": "stdout",
     "output_type": "stream",
     "text": [
      "4.8\n"
     ]
    }
   ],
   "source": [
    "print(outputs)"
   ]
  },
  {
   "cell_type": "code",
   "execution_count": 34,
   "id": "289175d9-bf48-48ea-be54-e599d2cb3e89",
   "metadata": {},
   "outputs": [],
   "source": [
    "a = [1, 2, 3]\n",
    "b = [2, 3, 4]"
   ]
  },
  {
   "cell_type": "code",
   "execution_count": 36,
   "id": "77f02937-1d92-4496-aa6e-61800f254617",
   "metadata": {},
   "outputs": [],
   "source": [
    "outputs = np.dot(a, b)"
   ]
  },
  {
   "cell_type": "code",
   "execution_count": 37,
   "id": "beeb370c-8fc9-4925-a65c-7e2be4d2e5f0",
   "metadata": {},
   "outputs": [
    {
     "name": "stdout",
     "output_type": "stream",
     "text": [
      "20\n"
     ]
    }
   ],
   "source": [
    "print(outputs)"
   ]
  },
  {
   "cell_type": "code",
   "execution_count": null,
   "id": "9e19467f-3f14-4f10-ac4a-b284699b0c1b",
   "metadata": {},
   "outputs": [],
   "source": []
  },
  {
   "cell_type": "code",
   "execution_count": 38,
   "id": "497b09fb-2036-4dc1-9a76-eeee355f04de",
   "metadata": {},
   "outputs": [],
   "source": [
    "### A layer of neurons with numpy"
   ]
  },
  {
   "cell_type": "code",
   "execution_count": 47,
   "id": "18f7affd-6af3-4d75-8398-347ca96e0bcb",
   "metadata": {},
   "outputs": [],
   "source": [
    "import numpy as np"
   ]
  },
  {
   "cell_type": "code",
   "execution_count": 48,
   "id": "dce1eb19-ebe6-479b-b2d8-f4a826608977",
   "metadata": {},
   "outputs": [],
   "source": [
    "inputs = [1.0, 2.0, 3.0, 2.5]\n",
    "weights = [[0.2, 0.8, -0.5, 1], [0.5, -0.91, 0.26, -0.5], [-0.26, -0.27, 0.17, 0.87]]\n",
    "biases = [2.0, 3.0, 0.5]"
   ]
  },
  {
   "cell_type": "code",
   "execution_count": 49,
   "id": "dadfedc3-3c67-4a34-899c-de20e301d3cd",
   "metadata": {},
   "outputs": [],
   "source": [
    "outputs = np.dot(weights, inputs) + biases"
   ]
  },
  {
   "cell_type": "code",
   "execution_count": 57,
   "id": "5e1702eb-f43b-41f1-962f-d54094945a4a",
   "metadata": {},
   "outputs": [
    {
     "name": "stdout",
     "output_type": "stream",
     "text": [
      "[4.8   1.21  2.385]\n"
     ]
    },
    {
     "data": {
      "text/plain": [
       "numpy.ndarray"
      ]
     },
     "execution_count": 57,
     "metadata": {},
     "output_type": "execute_result"
    }
   ],
   "source": [
    "print(outputs)\n",
    "type(outputs)"
   ]
  },
  {
   "cell_type": "code",
   "execution_count": null,
   "id": "867c25e5-0d91-426d-9ee7-81b626087928",
   "metadata": {},
   "outputs": [],
   "source": []
  },
  {
   "cell_type": "code",
   "execution_count": 51,
   "id": "89196250-d3c8-4f99-8a0c-4f9529a9316e",
   "metadata": {},
   "outputs": [],
   "source": [
    "### A batch of Data"
   ]
  },
  {
   "cell_type": "code",
   "execution_count": 52,
   "id": "095a8bfd-c69f-4d1f-a029-4375686af1e9",
   "metadata": {},
   "outputs": [],
   "source": [
    "inputs = [1, 2, 3, 2.5]"
   ]
  },
  {
   "cell_type": "code",
   "execution_count": null,
   "id": "48bf9bc3-516d-47cd-af5f-e9b65df55172",
   "metadata": {},
   "outputs": [],
   "source": []
  },
  {
   "cell_type": "code",
   "execution_count": 53,
   "id": "abde32fd-838d-46ca-a81d-3afb733150b5",
   "metadata": {},
   "outputs": [],
   "source": [
    "### Matrix Product"
   ]
  },
  {
   "cell_type": "code",
   "execution_count": 54,
   "id": "88a860ec-c55e-4e77-b872-bfa92739d599",
   "metadata": {},
   "outputs": [
    {
     "data": {
      "text/plain": [
       "20"
      ]
     },
     "execution_count": 54,
     "metadata": {},
     "output_type": "execute_result"
    }
   ],
   "source": [
    "a = [1, 2, 3]\n",
    "b = [2, 3, 4]\n",
    "np.dot(b, a)"
   ]
  },
  {
   "cell_type": "code",
   "execution_count": 55,
   "id": "fea83157-236e-44f6-b9be-e36ec83c7dcc",
   "metadata": {},
   "outputs": [
    {
     "data": {
      "text/plain": [
       "20"
      ]
     },
     "execution_count": 55,
     "metadata": {},
     "output_type": "execute_result"
    }
   ],
   "source": [
    "np.dot(a, b)"
   ]
  },
  {
   "cell_type": "code",
   "execution_count": null,
   "id": "4724966d-2707-4111-849e-ada45ea8ff83",
   "metadata": {},
   "outputs": [],
   "source": []
  },
  {
   "cell_type": "code",
   "execution_count": 58,
   "id": "1fb12127-5fa5-4e88-9b3c-0f5dd52bfcfa",
   "metadata": {},
   "outputs": [],
   "source": [
    "# Transportation for the Matrix Product"
   ]
  },
  {
   "cell_type": "code",
   "execution_count": null,
   "id": "9bd6ab0d-75e8-44d0-ada8-6bafb5f03b98",
   "metadata": {},
   "outputs": [],
   "source": []
  }
 ],
 "metadata": {
  "kernelspec": {
   "display_name": "Python 3 (ipykernel)",
   "language": "python",
   "name": "python3"
  },
  "language_info": {
   "codemirror_mode": {
    "name": "ipython",
    "version": 3
   },
   "file_extension": ".py",
   "mimetype": "text/x-python",
   "name": "python",
   "nbconvert_exporter": "python",
   "pygments_lexer": "ipython3",
   "version": "3.10.12"
  }
 },
 "nbformat": 4,
 "nbformat_minor": 5
}
